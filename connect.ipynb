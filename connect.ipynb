{
 "cells": [
  {
   "cell_type": "code",
   "execution_count": 3,
   "id": "5d7da94a",
   "metadata": {},
   "outputs": [],
   "source": [
    "import sqlite3\n",
    "\n",
    "\n",
    "def connect(dbname):\n",
    "    conn = sqlite3.connect(dbname)\n",
    "    conn.execute(\"CREATE TABLE IF NOT EXISTS FLIPK_LAPTOP (NAME TEXT, PROCESSOR TEXT, PRICE TEXT, RATING TEXT)\")\n",
    "    \n",
    "    print(\"TABLE CREATED SUCCESFULLY\")\n",
    "    \n",
    "    conn.close()\n",
    "    \n",
    "def insert_into_table(dbname,values):\n",
    "    conn = sqlite3.connect(dbname)\n",
    "    print(\"Inserted into table: \" + str(values))\n",
    "    insert_sql = \"INSERT INTO FLIPK_LAPTOP (NAME,PROCESSOR,PRICE,RATING) VALUES (?,?,?,?)\"\n",
    "    conn.execute(insert_sql,values)\n",
    "\n",
    "    conn.commit()\n",
    "    conn.close()\n",
    "    \n",
    "def get_laptop_info(dbname):\n",
    "    conn = sqlite3.connect(dbname)\n",
    "    \n",
    "    cur = conn.cursor()\n",
    "    cur.execute(\"SELECT * FROM FLIPK_LAPTOP\")\n",
    "\n",
    "    table_data = cur.fetchall()\n",
    "\n",
    "    for record in table_data:\n",
    "        print(record)\n",
    "    conn.close()"
   ]
  },
  {
   "cell_type": "code",
   "execution_count": null,
   "id": "3dbfea0f",
   "metadata": {},
   "outputs": [],
   "source": []
  }
 ],
 "metadata": {
  "kernelspec": {
   "display_name": "Python 3 (ipykernel)",
   "language": "python",
   "name": "python3"
  },
  "language_info": {
   "codemirror_mode": {
    "name": "ipython",
    "version": 3
   },
   "file_extension": ".py",
   "mimetype": "text/x-python",
   "name": "python",
   "nbconvert_exporter": "python",
   "pygments_lexer": "ipython3",
   "version": "3.9.6"
  }
 },
 "nbformat": 4,
 "nbformat_minor": 5
}
